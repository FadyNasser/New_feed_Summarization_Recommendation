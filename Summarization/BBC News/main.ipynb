{
 "cells": [
  {
   "cell_type": "code",
   "execution_count": 3,
   "metadata": {},
   "outputs": [],
   "source": [
    "from fastapi import FastAPI, Request,Form\n",
    "from fastapi.responses import HTMLResponse\n",
    "from fastapi.staticfiles import StaticFiles\n",
    "from fastapi.templating import Jinja2Templates\n",
    "from pydantic import BaseModel\n",
    "import pandas as pd"
   ]
  },
  {
   "cell_type": "code",
   "execution_count": 5,
   "metadata": {},
   "outputs": [],
   "source": [
    "newsDF=pd.read_csv(\"./dataset/TextRankSummary.csv\")\n"
   ]
  },
  {
   "cell_type": "code",
   "execution_count": 6,
   "metadata": {},
   "outputs": [],
   "source": [
    "app = FastAPI()\n",
    "\n",
    "app.mount(\"/static\", StaticFiles(directory=\"static\"), name=\"static\")\n",
    "\n",
    "\n",
    "templates = Jinja2Templates(directory=\"templates/\")"
   ]
  },
  {
   "cell_type": "code",
   "execution_count": 7,
   "metadata": {},
   "outputs": [],
   "source": [
    "@app.get('/home',response_class=HTMLResponse)\n",
    "async def hello_world(request: Request):\n",
    "    return templates.TemplateResponse(\"home.html\", {\"request\": request,\"hello in \":\"News Summary\"})"
   ]
  },
  {
   "cell_type": "code",
   "execution_count": 10,
   "metadata": {},
   "outputs": [],
   "source": [
    "@app.get('/home',response_class=HTMLResponse) # Not working yet\n",
    "async def get(newsID: str = Form(...)):\n",
    "\n",
    "    return {\"newsID\": newsID}"
   ]
  },
  {
   "cell_type": "code",
   "execution_count": 11,
   "metadata": {},
   "outputs": [],
   "source": [
    "@app.get('/home/{newsID}',response_class=HTMLResponse)\n",
    "async def get_summary(request: Request, newsID: str):\n",
    "\n",
    "    Title=str(newsDF[newsDF[\"News ID\"]==newsID]['Title'].values)\n",
    "    Category=str(newsDF[newsDF[\"News ID\"]==newsID]['Category'].values)\n",
    "    Article=str(newsDF[newsDF[\"News ID\"]==newsID]['Cleaned_Article'].values)\n",
    "    return templates.TemplateResponse(\"index.html\", {\"request\": request,\"Title\":Title,\n",
    "    \"Category\":Category,\n",
    "    \"Article\":Article})"
   ]
  },
  {
   "cell_type": "code",
   "execution_count": null,
   "metadata": {},
   "outputs": [],
   "source": []
  }
 ],
 "metadata": {
  "kernelspec": {
   "display_name": "Python 3 (ipykernel)",
   "language": "python",
   "name": "python3"
  },
  "language_info": {
   "codemirror_mode": {
    "name": "ipython",
    "version": 3
   },
   "file_extension": ".py",
   "mimetype": "text/x-python",
   "name": "python",
   "nbconvert_exporter": "python",
   "pygments_lexer": "ipython3",
   "version": "3.7.11"
  }
 },
 "nbformat": 4,
 "nbformat_minor": 4
}
